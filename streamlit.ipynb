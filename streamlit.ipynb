{
  "nbformat": 4,
  "nbformat_minor": 0,
  "metadata": {
    "colab": {
      "private_outputs": true,
      "provenance": []
    },
    "kernelspec": {
      "name": "python3",
      "display_name": "Python 3"
    },
    "language_info": {
      "name": "python"
    }
  },
  "cells": [
    {
      "cell_type": "code",
      "source": [
        "!pip install streamlit\n",
        "import streamlit as st\n",
        "import joblib\n",
        "import numpy as np\n",
        "\n",
        "model = joblib.load(\"melb_data.pkl\")\n",
        "\n",
        "\n",
        "st.title(\"House Price Prediction App\")\n",
        "\n",
        "st.divider()\n",
        "\n",
        "st.write(\"This app uses machine learning for predicting house price with given features of the house.\")\n",
        "\n",
        "st.divider()\n",
        "Rooms = st.number_input(\"number of rooms\",min_value=0,value=0)\n",
        "Landsize = st.number_input(\"landsize\",min_value=0,value=0)\n",
        "Distance = st.number_input(\"distance\",min_value=0,value=0)\n",
        "Postcode = st.number_input(\"postcode\",min_value=0,value=3000)\n",
        "Bedroom2 = st.number_input(\"number of bedroom2\",min_value=0,value=0)\n",
        "Bathroom = st.number_input(\"number of bathroom\",min_value=0,value=0)\n",
        "\n",
        "st.divider()\n",
        "\n",
        "x = [[Rooms,Landsize,Distance,Postcode,Bedroom2,Bathroom]]\n",
        "\n",
        "predictbutton = st.button(\"predict!\")\n",
        "\n",
        "if predictbutton:\n",
        "\n",
        "    st.balloons()\n",
        "\n",
        "    x_array = np.array(x)\n",
        "    prediction = model.predict(x_array)\n",
        "    st.write(f\"price prediction is {prediction}\")\n",
        "\n",
        "else:\n",
        "    st.write(\"plese use predict button after entering values\")\n",
        "\n"
      ],
      "metadata": {
        "id": "oByf3LYczyvj"
      },
      "execution_count": null,
      "outputs": []
    },
    {
      "cell_type": "code",
      "source": [
        "!streamlit run streamlit.py"
      ],
      "metadata": {
        "id": "fPKB3Z2N2Yyl"
      },
      "execution_count": null,
      "outputs": []
    }
  ]
}